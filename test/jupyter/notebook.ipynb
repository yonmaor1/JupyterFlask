{
 "cells": [
  {
   "cell_type": "markdown",
   "id": "8e6a951a",
   "metadata": {},
   "source": [
    "# Import Required Libraries\n",
    "This notebook demonstrates basic interactive plots using generic data with matplotlib and ipywidgets."
   ]
  },
  {
   "cell_type": "code",
   "execution_count": 1,
   "id": "39adca4f",
   "metadata": {},
   "outputs": [],
   "source": [
    "# Import Required Libraries\n",
    "import numpy as np\n",
    "import matplotlib.pyplot as plt\n",
    "from ipywidgets import interact, FloatSlider, IntSlider"
   ]
  },
  {
   "cell_type": "markdown",
   "id": "f27011c9",
   "metadata": {},
   "source": [
    "# Generate Generic Data\n",
    "We will create simple arrays using numpy for our plots."
   ]
  },
  {
   "cell_type": "code",
   "execution_count": 2,
   "id": "57240eb6",
   "metadata": {},
   "outputs": [],
   "source": [
    "# Generate Generic Data\n",
    "x = np.linspace(0, 10, 100)\n",
    "y = 2 * x + 1\n",
    "np.random.seed(0)\n",
    "x_scatter = np.random.rand(100)\n",
    "y_scatter = np.random.rand(100)"
   ]
  },
  {
   "cell_type": "markdown",
   "id": "66657bda",
   "metadata": {},
   "source": [
    "# Create Basic Interactive Line Plot\n",
    "Adjust the slope and intercept to see how the line changes."
   ]
  },
  {
   "cell_type": "code",
   "execution_count": null,
   "id": "8c835258",
   "metadata": {},
   "outputs": [],
   "source": [
    "# Interactive Line Plot\n",
    "\n",
    "def plot_line(slope=1.0, intercept=0.0):\n",
    "    y = slope * x + intercept\n",
    "    plt.figure(figsize=(8, 4))\n",
    "    plt.plot(x, y, label=f'y = {slope}x + {intercept}')\n",
    "    plt.xlabel('x')\n",
    "    plt.ylabel('y')\n",
    "    plt.title('Interactive Line Plot')\n",
    "    plt.legend()\n",
    "    plt.grid(True)\n",
    "    plt.show()\n",
    "\n",
    "interact(plot_line, slope=FloatSlider(value=2.0, min=-5, max=5, step=0.1), intercept=FloatSlider(value=1.0, min=-10, max=10, step=0.5))"
   ]
  },
  {
   "cell_type": "markdown",
   "id": "665a2b33",
   "metadata": {},
   "source": [
    "# Create Basic Interactive Scatter Plot\n",
    "Adjust the point size and color to see how the scatter plot changes."
   ]
  },
  {
   "cell_type": "code",
   "execution_count": null,
   "id": "43771b49",
   "metadata": {},
   "outputs": [],
   "source": [
    "# Interactive Scatter Plot\n",
    "\n",
    "def plot_scatter(size=20, color='blue'):\n",
    "    plt.figure(figsize=(8, 4))\n",
    "    plt.scatter(x_scatter, y_scatter, s=size, c=color, alpha=0.7)\n",
    "    plt.xlabel('x')\n",
    "    plt.ylabel('y')\n",
    "    plt.title('Interactive Scatter Plot')\n",
    "    plt.grid(True)\n",
    "    plt.show()\n",
    "\n",
    "interact(plot_scatter, size=IntSlider(value=20, min=5, max=100, step=1), color=['blue', 'red', 'green', 'purple', 'orange'])"
   ]
  }
 ],
 "metadata": {
  "kernelspec": {
   "display_name": "jupyter",
   "language": "python",
   "name": "python3"
  },
  "language_info": {
   "codemirror_mode": {
    "name": "ipython",
    "version": 3
   },
   "file_extension": ".py",
   "mimetype": "text/x-python",
   "name": "python",
   "nbconvert_exporter": "python",
   "pygments_lexer": "ipython3",
   "version": "3.13.7"
  }
 },
 "nbformat": 4,
 "nbformat_minor": 5
}
